{
 "cells": [
  {
   "cell_type": "code",
   "execution_count": 1,
   "id": "9d3655cd",
   "metadata": {},
   "outputs": [],
   "source": [
    "import json\n",
    "  \n",
    "# Opening JSON file\n",
    "f = open('/Users/lilybessette/NUMAD21Su_LilyBessette/TestCodeEnvironment/openFDA/drug-ndc-0001-of-0001.json')\n",
    "  \n",
    "# returns JSON object as \n",
    "# a dictionary\n",
    "data = json.load(f)\n",
    "\n",
    "  \n",
    "# Closing file\n",
    "f.close()"
   ]
  },
  {
   "cell_type": "code",
   "execution_count": 3,
   "id": "f0fe3683",
   "metadata": {},
   "outputs": [
    {
     "ename": "KeyError",
     "evalue": "'dosage_form'",
     "output_type": "error",
     "traceback": [
      "\u001b[0;31m---------------------------------------------------------------------------\u001b[0m",
      "\u001b[0;31mKeyError\u001b[0m                                  Traceback (most recent call last)",
      "\u001b[0;32m<ipython-input-3-f388c938301d>\u001b[0m in \u001b[0;36m<module>\u001b[0;34m\u001b[0m\n\u001b[0;32m----> 1\u001b[0;31m \u001b[0mdata\u001b[0m\u001b[0;34m[\u001b[0m\u001b[0;34m'dosage_form'\u001b[0m\u001b[0;34m]\u001b[0m\u001b[0;34m\u001b[0m\u001b[0;34m\u001b[0m\u001b[0m\n\u001b[0m",
      "\u001b[0;31mKeyError\u001b[0m: 'dosage_form'"
     ]
    }
   ],
   "source": [
    "data['dosage_form']"
   ]
  },
  {
   "cell_type": "code",
   "execution_count": 13,
   "id": "e39b8894",
   "metadata": {},
   "outputs": [],
   "source": [
    "#data['results']['openfda']['dosage_form']\n",
    "data['results']\n",
    "results = data['results']"
   ]
  },
  {
   "cell_type": "code",
   "execution_count": 16,
   "id": "e7264555",
   "metadata": {},
   "outputs": [
    {
     "data": {
      "text/plain": [
       "'TABLET'"
      ]
     },
     "execution_count": 16,
     "metadata": {},
     "output_type": "execute_result"
    }
   ],
   "source": [
    "results[0]['dosage_form']"
   ]
  },
  {
   "cell_type": "code",
   "execution_count": 28,
   "id": "5422d1b2",
   "metadata": {},
   "outputs": [],
   "source": [
    "dosage_forms = list()"
   ]
  },
  {
   "cell_type": "code",
   "execution_count": 29,
   "id": "0f343e77",
   "metadata": {},
   "outputs": [],
   "source": [
    "\n",
    "for i in range(0,len(results)):\n",
    "    dosage_forms.append(results[i]['dosage_form'])"
   ]
  },
  {
   "cell_type": "code",
   "execution_count": 31,
   "id": "d725f9ef",
   "metadata": {},
   "outputs": [
    {
     "data": {
      "text/plain": [
       "array(['AEROSOL', 'AEROSOL, FOAM', 'AEROSOL, METERED', 'AEROSOL, POWDER',\n",
       "       'AEROSOL, SPRAY', 'BAR, CHEWABLE', 'BEAD', 'CAPSULE',\n",
       "       'CAPSULE, COATED', 'CAPSULE, COATED PELLETS',\n",
       "       'CAPSULE, COATED, EXTENDED RELEASE', 'CAPSULE, DELAYED RELEASE',\n",
       "       'CAPSULE, DELAYED RELEASE PELLETS', 'CAPSULE, EXTENDED RELEASE',\n",
       "       'CAPSULE, FILM COATED, EXTENDED RELEASE',\n",
       "       'CAPSULE, GELATIN COATED', 'CAPSULE, LIQUID FILLED',\n",
       "       'CELLULAR SHEET', 'CHEWABLE GEL', 'CLOTH', 'CONCENTRATE', 'CREAM',\n",
       "       'CREAM, AUGMENTED', 'CRYSTAL', 'DISC', 'DOUCHE', 'DRESSING',\n",
       "       'ELIXIR', 'EMULSION', 'ENEMA', 'EXTRACT', 'FILM',\n",
       "       'FILM, EXTENDED RELEASE', 'FILM, SOLUBLE', 'FOR SOLUTION',\n",
       "       'FOR SUSPENSION', 'GAS', 'GEL', 'GEL, DENTIFRICE', 'GEL, METERED',\n",
       "       'GLOBULE', 'GRANULE', 'GRANULE, DELAYED RELEASE',\n",
       "       'GRANULE, EFFERVESCENT', 'GRANULE, FOR SOLUTION',\n",
       "       'GRANULE, FOR SUSPENSION',\n",
       "       'GRANULE, FOR SUSPENSION, EXTENDED RELEASE', 'GUM, CHEWING',\n",
       "       'IMPLANT', 'INHALANT', 'INJECTABLE, LIPOSOMAL', 'INJECTION',\n",
       "       'INJECTION, EMULSION', 'INJECTION, LIPID COMPLEX',\n",
       "       'INJECTION, POWDER, FOR SOLUTION',\n",
       "       'INJECTION, POWDER, FOR SUSPENSION',\n",
       "       'INJECTION, POWDER, FOR SUSPENSION, EXTENDED RELEASE',\n",
       "       'INJECTION, POWDER, LYOPHILIZED, FOR SOLUTION',\n",
       "       'INJECTION, POWDER, LYOPHILIZED, FOR SUSPENSION',\n",
       "       'INJECTION, POWDER, LYOPHILIZED, FOR SUSPENSION, EXTENDED RELEASE',\n",
       "       'INJECTION, SOLUTION', 'INJECTION, SOLUTION, CONCENTRATE',\n",
       "       'INJECTION, SUSPENSION', 'INJECTION, SUSPENSION, EXTENDED RELEASE',\n",
       "       'INJECTION, SUSPENSION, LIPOSOMAL', 'INSERT',\n",
       "       'INSERT, EXTENDED RELEASE', 'INTRAUTERINE DEVICE', 'IRRIGANT',\n",
       "       'JELLY', 'KIT', 'LINIMENT', 'LIPSTICK', 'LIQUID',\n",
       "       'LIQUID, EXTENDED RELEASE', 'LOTION', 'LOTION, AUGMENTED',\n",
       "       'LOTION/SHAMPOO', 'LOZENGE', 'MOUTHWASH', 'NOT APPLICABLE', 'OIL',\n",
       "       'OINTMENT', 'OINTMENT, AUGMENTED', 'PASTE', 'PASTE, DENTIFRICE',\n",
       "       'PASTILLE', 'PATCH', 'PATCH, EXTENDED RELEASE', 'PELLET',\n",
       "       'PELLET, IMPLANTABLE', 'PELLETS, COATED, EXTENDED RELEASE', 'PILL',\n",
       "       'PLASTER', 'POULTICE', 'POWDER', 'POWDER, DENTIFRICE',\n",
       "       'POWDER, FOR SOLUTION', 'POWDER, FOR SUSPENSION',\n",
       "       'POWDER, METERED', 'RING', 'RINSE', 'SALVE', 'SHAMPOO',\n",
       "       'SHAMPOO, SUSPENSION', 'SOAP', 'SOLUTION', 'SOLUTION, CONCENTRATE',\n",
       "       'SOLUTION, GEL FORMING / DROPS',\n",
       "       'SOLUTION, GEL FORMING, EXTENDED RELEASE', 'SOLUTION/ DROPS',\n",
       "       'SPONGE', 'SPRAY', 'SPRAY, METERED', 'SPRAY, SUSPENSION', 'STICK',\n",
       "       'STRIP', 'SUPPOSITORY', 'SUSPENSION',\n",
       "       'SUSPENSION, EXTENDED RELEASE', 'SUSPENSION/ DROPS', 'SWAB',\n",
       "       'SYRUP', 'SYSTEM', 'TABLET', 'TABLET WITH SENSOR',\n",
       "       'TABLET, CHEWABLE', 'TABLET, CHEWABLE, EXTENDED RELEASE',\n",
       "       'TABLET, COATED', 'TABLET, DELAYED RELEASE',\n",
       "       'TABLET, EFFERVESCENT', 'TABLET, EXTENDED RELEASE',\n",
       "       'TABLET, FILM COATED', 'TABLET, FILM COATED, EXTENDED RELEASE',\n",
       "       'TABLET, FOR SOLUTION', 'TABLET, FOR SUSPENSION',\n",
       "       'TABLET, MULTILAYER', 'TABLET, MULTILAYER, EXTENDED RELEASE',\n",
       "       'TABLET, ORALLY DISINTEGRATING',\n",
       "       'TABLET, ORALLY DISINTEGRATING, DELAYED RELEASE',\n",
       "       'TABLET, SOLUBLE', 'TABLET, SUGAR COATED', 'TAPE', 'TINCTURE',\n",
       "       'WAFER'], dtype='<U64')"
      ]
     },
     "execution_count": 31,
     "metadata": {},
     "output_type": "execute_result"
    }
   ],
   "source": [
    "import numpy as np\n",
    "np.unique(dosage_forms)"
   ]
  }
 ],
 "metadata": {
  "kernelspec": {
   "display_name": "Python 3",
   "language": "python",
   "name": "python3"
  },
  "language_info": {
   "codemirror_mode": {
    "name": "ipython",
    "version": 3
   },
   "file_extension": ".py",
   "mimetype": "text/x-python",
   "name": "python",
   "nbconvert_exporter": "python",
   "pygments_lexer": "ipython3",
   "version": "3.7.3"
  }
 },
 "nbformat": 4,
 "nbformat_minor": 5
}
